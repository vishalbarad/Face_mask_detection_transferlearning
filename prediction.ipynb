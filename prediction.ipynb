{
 "cells": [
  {
   "cell_type": "code",
   "execution_count": 1,
   "metadata": {},
   "outputs": [],
   "source": [
    "import cv2\n",
    "from tensorflow.keras.models import load_model\n",
    "from tensorflow.keras.preprocessing.image import load_img, img_to_array\n",
    "import numpy as np"
   ]
  },
  {
   "cell_type": "code",
   "execution_count": 3,
   "metadata": {},
   "outputs": [],
   "source": [
    "model = load_model('Face_mask1.h5') \n",
    "face_cascade = cv2.CascadeClassifier('haarcascade_frontalface_default.xml')\n",
    "\n",
    "# model accept below hight and width of the image\n",
    "img_width, img_hight = 224, 224 \n",
    " \n",
    "cap = cv2.VideoCapture(0) \n",
    "img_count_full=0\n",
    "font = cv2.FONT_HERSHEY_SIMPLEX \n",
    "org = (1,1)\n",
    "class_lable=' '      \n",
    "fontScale = 1 \n",
    "color = (255, 0, 0) \n",
    "thickness = 2 \n",
    " \n",
    "import tempfile\n",
    "with tempfile.TemporaryDirectory() as directory:\n",
    "    while True:\n",
    "        img_count_full += 1\n",
    "\n",
    "        responce, color_img = cap.read()\n",
    "        if responce == False:\n",
    "            break    \n",
    "\n",
    "        gray_img = cv2.cvtColor(color_img, cv2.COLOR_BGR2GRAY)\n",
    "\n",
    "        faces = face_cascade.detectMultiScale(gray_img, 1.1, 6) # 1.1, 3) for 1.mp4\n",
    "\n",
    "        img_count = 0\n",
    "        for (x, y, w, h) in faces:\n",
    "            org = (x-10,y-10)\n",
    "            img_count +=1 \n",
    "            color_face = color_img[y:y+h,x:x+w] # color face\n",
    "            cv2.imwrite('/%s/%d%dface.jpg'%(directory,img_count_full,img_count),color_face)\n",
    "            img = load_img('/%s/%d%dface.jpg'%(directory,img_count_full,img_count), target_size=(img_width,img_hight))\n",
    "\n",
    "            img = img_to_array(img)/255\n",
    "            img = np.expand_dims(img,axis=0)\n",
    "            pred_prob = model.predict(img)\n",
    "            pred=np.argmax(pred_prob)\n",
    "\n",
    "            if pred==0:\n",
    "                class_lable = \"Mask \"+str((pred_prob[0][0]*100).round(2))+\"%\"\n",
    "                color = (0, 255, 0)\n",
    "                cv2.rectangle(color_img, (x, y), (x+w, y+h), (255,0,0), 3)\n",
    "                cv2.putText(color_img, class_lable, org, font,  \n",
    "                                       fontScale, color, thickness, cv2.LINE_AA) \n",
    "            else:\n",
    "                class_lable = \"No Mask \"+str((pred_prob[0][0]*100).round(2))+\"%\"\n",
    "                color = (0,0,255)\n",
    "                cv2.rectangle(color_img, (x, y), (x+w, y+h), (255,0,0), 3)\n",
    "                cv2.putText(color_img, class_lable, org, font,  \n",
    "                                       fontScale, color, thickness, cv2.LINE_AA) \n",
    "\n",
    "        cv2.imshow('LIVE face mask detection', color_img)\n",
    "\n",
    "        if cv2.waitKey(1)==27:\n",
    "            break\n",
    " \n",
    "cap.release()\n",
    "cv2.destroyAllWindows()"
   ]
  },
  {
   "cell_type": "code",
   "execution_count": null,
   "metadata": {},
   "outputs": [],
   "source": []
  }
 ],
 "metadata": {
  "kernelspec": {
   "display_name": "Python 3",
   "language": "python",
   "name": "python3"
  },
  "language_info": {
   "codemirror_mode": {
    "name": "ipython",
    "version": 3
   },
   "file_extension": ".py",
   "mimetype": "text/x-python",
   "name": "python",
   "nbconvert_exporter": "python",
   "pygments_lexer": "ipython3",
   "version": "3.7.6"
  }
 },
 "nbformat": 4,
 "nbformat_minor": 4
}
